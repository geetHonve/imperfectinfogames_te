{
  "nbformat": 4,
  "nbformat_minor": 0,
  "metadata": {
    "colab": {
      "provenance": []
    },
    "kernelspec": {
      "name": "python3",
      "display_name": "Python 3"
    },
    "language_info": {
      "name": "python"
    }
  },
  "cells": [
    {
      "cell_type": "code",
      "execution_count": 31,
      "metadata": {
        "id": "YeMgICK8Mz3Q"
      },
      "outputs": [],
      "source": [
        "import numpy as np\n",
        "import random\n",
        "import matplotlib.pyplot as plt\n",
        "np.set_printoptions(suppress=True)"
      ]
    },
    {
      "cell_type": "code",
      "source": [
        "ROCK, PAPER, SCISSORS = 0,1,2\n",
        "NUM_ACTIONS = 3\n",
        "oppStrategy = np.array([0.4, 0.3, 0.3])\n",
        "\n",
        "def value(p1, p2):\n",
        "  if p1==p2:\n",
        "    return 0\n",
        "  elif p1==ROCK and p2==SCISSORS:\n",
        "    return 1\n",
        "  elif p1==SCISSORS and p2==PAPER:\n",
        "    return 1\n",
        "  elif p1==PAPER and p2==ROCK:\n",
        "    return 1\n",
        "  else:\n",
        "    return -1"
      ],
      "metadata": {
        "id": "RhW2yXthNe81"
      },
      "execution_count": 32,
      "outputs": []
    },
    {
      "cell_type": "code",
      "source": [
        "def normalize(strategy):\n",
        "  strategy = np.copy(strategy)\n",
        "  normalizingSum = np.sum(strategy)\n",
        "  if normalizingSum > 0:\n",
        "    strategy /= normalizingSum\n",
        "  else:\n",
        "    strategy = np.ones(strategy.shape[0])/(strategy.shape[0])\n",
        "  return strategy\n",
        "\n",
        "# accumulates in strategySum\n",
        "def getStrategy(regretSum):\n",
        "  #Get current mixed strategy through regret-matching\n",
        "  #the strategy you use is the one with maximum regret\n",
        "  return normalize(np.maximum(regretSum, 0))\n",
        "\n",
        "\n",
        "def getAction(strategy):\n",
        "  #Get random action according to mixed-strategy distribution\n",
        "  strategy = strategy/np.sum(strategy) #normalize\n",
        "  return np.searchsorted(np.cumsum(strategy), random.random())"
      ],
      "metadata": {
        "id": "kTBBLRScNzxA"
      },
      "execution_count": 33,
      "outputs": []
    },
    {
      "cell_type": "code",
      "source": [
        "print(normalize(np.zeros(NUM_ACTIONS)))"
      ],
      "metadata": {
        "id": "Jfdm-B17RBWB",
        "colab": {
          "base_uri": "https://localhost:8080/"
        },
        "outputId": "19e3ea22-17ff-4f95-8637-b1b3dc8f2e66"
      },
      "execution_count": 34,
      "outputs": [
        {
          "output_type": "stream",
          "name": "stdout",
          "text": [
            "[0.33333333 0.33333333 0.33333333]\n"
          ]
        }
      ]
    },
    {
      "cell_type": "code",
      "source": [
        "def inner_train(regretSum, strategySum, oppStrategy):\n",
        "    #accumulate the current strategy based on regret\n",
        "    strategy = getStrategy(regretSum)\n",
        "    strategySum += strategy\n",
        "\n",
        "    #select my action and opponent action\n",
        "    myAction = getAction(strategy)\n",
        "    oppAction = getAction(oppStrategy)\n",
        "    # we compute the utility of each possible action from the perspective of the player playing myAction\n",
        "\n",
        "    #for rock, paper, scissors\n",
        "    actionUtility = np.zeros(NUM_ACTIONS)\n",
        "    actionUtility[oppAction] = 0\n",
        "    actionUtility[(oppAction+1) % NUM_ACTIONS] = 1\n",
        "    actionUtility[(oppAction-1) % NUM_ACTIONS] = -1\n",
        "    #acc\n",
        "    regretSum += actionUtility - actionUtility[myAction]\n",
        "    return regretSum, strategySum\n",
        "\n",
        "\n",
        "def train(iterations):\n",
        "  regretSum = np.zeros(NUM_ACTIONS)\n",
        "  strategySum = np.zeros(NUM_ACTIONS)\n",
        "  oppStrategy = np.array([0.4, 0.3, 0.3])\n",
        "  \n",
        "  for i in range(iterations):\n",
        "    regretSum, strategySum = inner_train(regretSum, strategySum, oppStrategy)\n",
        "    \n",
        "  return strategySum\n",
        "\n",
        "def train2p(oiterations, iterations):\n",
        "  strategySumP1 = np.zeros(NUM_ACTIONS)\n",
        "  strategySumP2 = np.zeros(NUM_ACTIONS)\n",
        "\n",
        "  for j in range(oiterations):\n",
        "    oppStrategy = normalize(strategySumP2)\n",
        "    regretSumP1 = np.zeros(NUM_ACTIONS)\n",
        "    for i in range(iterations):\n",
        "      regretSumP1, strategySumP1 = inner_train(regretSumP1, strategySumP1, oppStrategy)\n",
        "\n",
        "    oppStrategy = normalize(strategySumP1)\n",
        "    regretSumP2 = np.zeros(NUM_ACTIONS)\n",
        "    for i in range(iterations):\n",
        "      regretSumP2, strategySumP2 = inner_train(regretSumP2, strategySumP2, oppStrategy)\n",
        "    print(normalize(strategySumP1), normalize(strategySumP2))\n",
        "\n",
        "  return strategySumP1, strategySumP2\n",
        "\n",
        "s1, s2 = train2p(40, 1000)\n",
        "normalize(s1), normalize(s2)"
      ],
      "metadata": {
        "id": "GSSU54juYM2d",
        "colab": {
          "base_uri": "https://localhost:8080/"
        },
        "outputId": "dd294d87-18fb-46cf-beaa-9b1ccff9293d"
      },
      "execution_count": 35,
      "outputs": [
        {
          "output_type": "stream",
          "name": "stdout",
          "text": [
            "[0.46478384 0.48499986 0.0502163 ] [0.0005     0.99766667 0.00183333]\n",
            "[0.23255859 0.24283327 0.52460815] [0.49958333 0.49916667 0.00125   ]\n",
            "[0.15515017 0.49205869 0.35279115] [0.3393539  0.33462751 0.32601859]\n",
            "[0.18748665 0.54548682 0.26702653] [0.25459876 0.2511373  0.49426394]\n",
            "[0.34915599 0.43652279 0.21432122] [0.20379567 0.39561032 0.40059401]\n",
            "[0.29781795 0.36382455 0.3383575 ] [0.17921893 0.33130119 0.48947988]\n",
            "[0.33981875 0.31194485 0.34823639] [0.19559958 0.37919171 0.42520871]\n",
            "[0.29792474 0.27313924 0.42893601] [0.29422671 0.33191775 0.37385554]\n",
            "[0.35352641 0.25087749 0.3955961 ] [0.34947701 0.31115579 0.3393672 ]\n",
            "[0.33464664 0.30923909 0.35611426] [0.32516184 0.30557836 0.3692598 ]\n",
            "[0.34366051 0.28115675 0.37518274] [0.37736478 0.28164766 0.34098757]\n",
            "[0.3597997  0.29218803 0.34801228] [0.42107679 0.25821868 0.32070453]\n",
            "[0.35344484 0.32528742 0.32126774] [0.40850782 0.28042083 0.31107135]\n",
            "[0.33176033 0.3698605  0.29837917] [0.39040764 0.32000459 0.28958777]\n",
            "[0.30975408 0.41173647 0.27850945] [0.36442491 0.30598206 0.32959303]\n",
            "[0.35193612 0.3864821  0.26158178] [0.34319796 0.33378977 0.32301227]\n",
            "[0.33129282 0.42245375 0.24625344] [0.32377618 0.31442632 0.3617975 ]\n",
            "[0.31296174 0.39991928 0.28711899] [0.30609417 0.29697671 0.39692912]\n",
            "[0.3483234  0.37888844 0.27278816] [0.2904401  0.32600933 0.38355058]\n",
            "[0.3640798  0.36149149 0.2744287 ] [0.27609807 0.34586189 0.37804004]\n",
            "[0.34891456 0.34455274 0.3065327 ] [0.26497167 0.36124103 0.3737873 ]\n",
            "[0.33311541 0.3315976  0.33528699] [0.2691994  0.34864418 0.38215642]\n",
            "[0.33371536 0.32077987 0.34550477] [0.27202259 0.33932145 0.38865596]\n",
            "[0.36142167 0.30744182 0.33113651] [0.27761319 0.34907688 0.37330994]\n",
            "[0.36634526 0.29522269 0.33843205] [0.27475713 0.36668911 0.35855376]\n",
            "[0.37344157 0.28503017 0.34152826] [0.29986419 0.3525985  0.34753731]\n",
            "[0.36012213 0.27452905 0.36534882] [0.32313527 0.34139053 0.3354742 ]\n",
            "[0.34862092 0.26553992 0.38583916] [0.34704849 0.32933611 0.3236154 ]\n",
            "[0.36329202 0.26072316 0.37598481] [0.36899538 0.31820578 0.31279884]\n",
            "[0.35126377 0.28506255 0.36367368] [0.38524893 0.31235664 0.30239444]\n",
            "[0.34473415 0.29754171 0.35772415] [0.40364621 0.30341101 0.29294277]\n",
            "[0.33397162 0.31947269 0.34655568] [0.40319231 0.31299333 0.28381435]\n",
            "[0.32439859 0.33799688 0.33760453] [0.39202365 0.33010674 0.27786961]\n",
            "[0.31673698 0.35467624 0.32858678] [0.38811308 0.32040752 0.29147941]\n",
            "[0.30867779 0.37165704 0.31966517] [0.37993877 0.31189445 0.30816678]\n",
            "[0.31535312 0.37247594 0.31217094] [0.37050641 0.31162223 0.31787136]\n",
            "[0.30854425 0.38453014 0.30692561] [0.36100868 0.30405119 0.33494013]\n",
            "[0.30968988 0.38912931 0.30118082] [0.35875855 0.30195761 0.33928384]\n",
            "[0.31853962 0.38718356 0.29427683] [0.35025495 0.30416615 0.3455789 ]\n",
            "[0.33555946 0.3775123  0.28692824] [0.34175376 0.32100897 0.33723726]\n"
          ]
        },
        {
          "output_type": "execute_result",
          "data": {
            "text/plain": [
              "(array([0.33555946, 0.3775123 , 0.28692824]),\n",
              " array([0.34175376, 0.32100897, 0.33723726]))"
            ]
          },
          "metadata": {},
          "execution_count": 35
        }
      ]
    },
    {
      "cell_type": "markdown",
      "source": [
        "Nash Equilibrium reached"
      ],
      "metadata": {
        "id": "18QkBfkvQT6f"
      }
    },
    {
      "cell_type": "code",
      "source": [
        "s1, s2 = train2p(10, 10000)\n",
        "normalize(s1), normalize(s2)"
      ],
      "metadata": {
        "colab": {
          "base_uri": "https://localhost:8080/"
        },
        "id": "t_EeuFniesRW",
        "outputId": "1d32eb22-7189-453b-c09d-5b8b65ac0040"
      },
      "execution_count": 36,
      "outputs": [
        {
          "output_type": "stream",
          "name": "stdout",
          "text": [
            "[0.25820315 0.55070389 0.19109296] [0.00016667 0.00016667 0.99966667]\n",
            "[0.62906824 0.27536861 0.09556315] [0.00011667 0.50001667 0.49986667]\n",
            "[0.41981819 0.1836013  0.39658051] [0.3319491  0.33467431 0.33337659]\n",
            "[0.31804011 0.37297299 0.3089869 ] [0.24928146 0.25133286 0.49938568]\n",
            "[0.45440542 0.29839172 0.24720285] [0.1994385  0.40103962 0.39952188]\n",
            "[0.37879958 0.24867088 0.37252954] [0.33207617 0.33497783 0.33294601]\n",
            "[0.34303497 0.24143795 0.41552708] [0.42747481 0.28713338 0.28539182]\n",
            "[0.30023685 0.33615612 0.36360703] [0.43028192 0.25127664 0.31844144]\n",
            "[0.26747017 0.40931988 0.32320995] [0.38259874 0.22352923 0.39387202]\n",
            "[0.33873863 0.37036908 0.29089229] [0.34464473 0.29990524 0.35545003]\n"
          ]
        },
        {
          "output_type": "execute_result",
          "data": {
            "text/plain": [
              "(array([0.33873863, 0.37036908, 0.29089229]),\n",
              " array([0.34464473, 0.29990524, 0.35545003]))"
            ]
          },
          "metadata": {},
          "execution_count": 36
        }
      ]
    },
    {
      "cell_type": "code",
      "source": [
        "strategySum = train(10000)\n",
        "normalize(strategySum)\n",
        "\n",
        "# which makes sense for our opp's strategy. should have been (0,1,0)"
      ],
      "metadata": {
        "colab": {
          "base_uri": "https://localhost:8080/"
        },
        "id": "1dE9EhaXlK9j",
        "outputId": "84c41c8e-bfef-48c5-c512-7ce12693d49f"
      },
      "execution_count": 37,
      "outputs": [
        {
          "output_type": "execute_result",
          "data": {
            "text/plain": [
              "array([0.00858483, 0.99138184, 0.00003333])"
            ]
          },
          "metadata": {},
          "execution_count": 37
        }
      ]
    },
    {
      "cell_type": "code",
      "source": [
        "strategy, oppStrategy = normalize(s1), normalize(s2)\n",
        "strategy, oppStrategy"
      ],
      "metadata": {
        "colab": {
          "base_uri": "https://localhost:8080/"
        },
        "id": "Ck1H4xPcpPDN",
        "outputId": "542857a6-fda5-4f48-d14c-4fa8a331a87f"
      },
      "execution_count": 38,
      "outputs": [
        {
          "output_type": "execute_result",
          "data": {
            "text/plain": [
              "(array([0.33873863, 0.37036908, 0.29089229]),\n",
              " array([0.34464473, 0.29990524, 0.35545003]))"
            ]
          },
          "metadata": {},
          "execution_count": 38
        }
      ]
    },
    {
      "cell_type": "code",
      "source": [
        "\n",
        "vvv = []\n",
        "for j in range(200):\n",
        "  vv = 0\n",
        "  for i in range(100):\n",
        "    strategy = normalize(strategySum)\n",
        "    #strategy = np.array([0,1,0]) - our intuitive solution to opp's strategy of 0.4, 0.3, 0.3\n",
        "    myAction = getAction(strategy)\n",
        "    oppAction = getAction(oppStrategy)\n",
        "    #regret of myAction vs oppAction utilities\n",
        "    vv += value(myAction, oppAction)\n",
        "  vvv.append(vv)\n",
        "  \n",
        "plt.plot(sorted(vvv)), np.mean(vvv)"
      ],
      "metadata": {
        "colab": {
          "base_uri": "https://localhost:8080/",
          "height": 285
        },
        "id": "ych0-QKYSY9R",
        "outputId": "e025b9b3-61b4-4acc-fd1a-77d8e61fb850"
      },
      "execution_count": 39,
      "outputs": [
        {
          "output_type": "execute_result",
          "data": {
            "text/plain": [
              "([<matplotlib.lines.Line2D at 0x7f05ec9d0b80>], -1.465)"
            ]
          },
          "metadata": {},
          "execution_count": 39
        },
        {
          "output_type": "display_data",
          "data": {
            "text/plain": [
              "<Figure size 432x288 with 1 Axes>"
            ],
            "image/png": "[encoded data removed]"
          },
          "metadata": {
            "needs_background": "light"
          }
        }
      ]
    }
  ]
}